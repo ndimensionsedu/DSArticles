{
 "cells": [
  {
   "cell_type": "markdown",
   "id": "83743f9f",
   "metadata": {},
   "source": [
    "ROC (Receiver Operating Characteristic) 曲线是常用的评估binary classifier (二值分类器)预测结果的一个工具。一般来说, 我们会将ROC和AUC (Area Under Curve) 放在一起, ROC作为一条评估曲线, AUC代表的是该ROC曲线下的面积. 在理解ROC的同时, 我们必须引入另一个常用的评估工具: confusion matrix (混淆矩阵), ROC的计算也是基于混淆矩阵的结果来进行的.\n",
    "\n",
    "在实际应用中, 想要调用ROC曲线是相当简单的, one line of code will do everything for you; 但是, 这个概念是很多同学不理解的。讲再多的理论不如自己实践一下, 今天我们就带大家手把手的使用模拟数据, 手动写出ROC曲线并且和build-in function的结果进行对比。"
   ]
  },
  {
   "cell_type": "code",
   "execution_count": 1,
   "id": "b2e96d1f",
   "metadata": {},
   "outputs": [],
   "source": [
    "#首先导入基本数据库\n",
    "import numpy as np\n",
    "import pandas as pd\n",
    "from sklearn.metrics import roc_curve,auc,confusion_matrix,plot_confusion_matrix,ConfusionMatrixDisplay\n",
    "import matplotlib.pyplot as plt\n",
    "import seaborn as sns\n",
    "#from IPython.core.interactiveshell import InteractiveShell\n",
    "#InteractiveShell.ast_node_interactivity = \"all\""
   ]
  },
  {
   "cell_type": "markdown",
   "id": "525bb3bb",
   "metadata": {},
   "source": [
    "## 模拟数据集"
   ]
  },
  {
   "cell_type": "markdown",
   "id": "1fbe3718",
   "metadata": {},
   "source": [
    "模拟500个样本, 为了可以重造这个试验, 我们设置一个seed, 这样随机数就是固定的了."
   ]
  },
  {
   "cell_type": "code",
   "execution_count": 2,
   "id": "7ed01741",
   "metadata": {},
   "outputs": [],
   "source": [
    "#使用模拟构造数据集 simulated true labels and probability\n",
    "np.random.seed(3000) #set seed so the results are reproducible\n",
    "# 模拟500个样本\n",
    "#初始化样本标签，假设1为正例，0为负例\n",
    "train_label = np.random.randint(0,2,size=500)\n",
    "\n",
    "#产生500个概率值（置信度），即单个样本值为正例的概率, round为小数\n",
    "train_prob = np.random.rand(500).round(2)"
   ]
  },
  {
   "cell_type": "code",
   "execution_count": 3,
   "id": "090040b2",
   "metadata": {
    "code_folding": [],
    "scrolled": true
   },
   "outputs": [
    {
     "data": {
      "text/html": [
       "<div>\n",
       "<style scoped>\n",
       "    .dataframe tbody tr th:only-of-type {\n",
       "        vertical-align: middle;\n",
       "    }\n",
       "\n",
       "    .dataframe tbody tr th {\n",
       "        vertical-align: top;\n",
       "    }\n",
       "\n",
       "    .dataframe thead th {\n",
       "        text-align: right;\n",
       "    }\n",
       "</style>\n",
       "<table border=\"1\" class=\"dataframe\">\n",
       "  <thead>\n",
       "    <tr style=\"text-align: right;\">\n",
       "      <th></th>\n",
       "      <th>Prob</th>\n",
       "      <th>True_label</th>\n",
       "    </tr>\n",
       "  </thead>\n",
       "  <tbody>\n",
       "    <tr>\n",
       "      <th>0</th>\n",
       "      <td>0.33</td>\n",
       "      <td>0.0</td>\n",
       "    </tr>\n",
       "    <tr>\n",
       "      <th>1</th>\n",
       "      <td>0.87</td>\n",
       "      <td>1.0</td>\n",
       "    </tr>\n",
       "    <tr>\n",
       "      <th>2</th>\n",
       "      <td>0.01</td>\n",
       "      <td>0.0</td>\n",
       "    </tr>\n",
       "    <tr>\n",
       "      <th>3</th>\n",
       "      <td>0.12</td>\n",
       "      <td>1.0</td>\n",
       "    </tr>\n",
       "    <tr>\n",
       "      <th>4</th>\n",
       "      <td>0.23</td>\n",
       "      <td>0.0</td>\n",
       "    </tr>\n",
       "  </tbody>\n",
       "</table>\n",
       "</div>"
      ],
      "text/plain": [
       "   Prob  True_label\n",
       "0  0.33         0.0\n",
       "1  0.87         1.0\n",
       "2  0.01         0.0\n",
       "3  0.12         1.0\n",
       "4  0.23         0.0"
      ]
     },
     "execution_count": 3,
     "metadata": {},
     "output_type": "execute_result"
    }
   ],
   "source": [
    "# Combine arrays to be data frame to better visilize it\n",
    "df = pd.DataFrame(np.c_[train_prob,train_label],columns=['Prob','True_label'])\n",
    "df.head()"
   ]
  },
  {
   "cell_type": "markdown",
   "id": "9f49cd50",
   "metadata": {},
   "source": [
    "可以看到每个case都被赋值了一个概率 (prob) 和一个实际值 (true label)"
   ]
  },
  {
   "cell_type": "markdown",
   "id": "3d41fa62",
   "metadata": {},
   "source": [
    "现在数据已经都模拟好了, 下一步就是来看看ROC曲线要怎么手动实现了.\n",
    "\n",
    "ROC曲线, 归根到底, 是N组 (FPR, TPR)画出的曲线. 所以在实现之前, 我们要了解什么是FPR, TPR."
   ]
  },
  {
   "cell_type": "markdown",
   "id": "a9522c3a",
   "metadata": {},
   "source": [
    "## 构造confusion matrix\n",
    "首先, 我们需要了解Confusion matrix; 在二分类问题中, 我们用confusion matrix来展现分类器的预测结果.\n",
    "\n",
    "通常会有个**四个**重要数值: \n",
    "\n",
    "**True Positive (tp)**: 实际值为1, 预测值也为1\n",
    "\n",
    "**True Negative (tn):** 实际值为0, 预测值也为0\n",
    "\n",
    "**False Positive (fp)**: 实际值为0, 而预测值为1\n",
    "\n",
    "**False Negative (fn)**: 实际值为1, 预测值为0\n",
    "\n",
    "我们常说的accuracy, recall,  sensitivity等等指标就是由这四个重要的数值衍生而来. 具体每个指标的计算和应用场景我们会在另一篇文章里介绍."
   ]
  },
  {
   "cell_type": "markdown",
   "id": "43cd572f",
   "metadata": {},
   "source": [
    "一个general的confusion matrix如图所示:(还没format好)\n",
    "\n",
    "|             |              |               Predicted Labels ||\n",
    "|-------------|--------------|:-------------:|-----------------:|\n",
    "|             |              |  Negative (0) |     Positive (1) |\n",
    "| True Labels | Negative (0) |    TN   |              FP |\n",
    "|             | Positive (1) | FN |               TP |"
   ]
  },
  {
   "cell_type": "markdown",
   "id": "d87ed708",
   "metadata": {},
   "source": [
    "回到绘制ROC曲线所需要的指标:\n",
    "\n",
    "TPR = $\\frac{tp}{tp + fn}$: 在所有实际值为1的case里, 有多少被分类器成功预测为1\n",
    "\n",
    "FPR = $\\frac{fp}{fp+tn}$: 在所有实际值为0的case里,有多少被分类器成功预测为0"
   ]
  },
  {
   "cell_type": "markdown",
   "id": "99e2c04b",
   "metadata": {},
   "source": [
    "### An example using the most common used threshold \n",
    "\n",
    "我们现在就来看看在threshold 为0.5的情况下, 我们的FPR, TPR分别是多少\n",
    "\n",
    "Threshold为0.5, 表示分类器会将所有probability ≥ 0.5的case赋值预测为1"
   ]
  },
  {
   "cell_type": "code",
   "execution_count": 4,
   "id": "94e06372",
   "metadata": {},
   "outputs": [
    {
     "data": {
      "text/html": [
       "<div>\n",
       "<style scoped>\n",
       "    .dataframe tbody tr th:only-of-type {\n",
       "        vertical-align: middle;\n",
       "    }\n",
       "\n",
       "    .dataframe tbody tr th {\n",
       "        vertical-align: top;\n",
       "    }\n",
       "\n",
       "    .dataframe thead th {\n",
       "        text-align: right;\n",
       "    }\n",
       "</style>\n",
       "<table border=\"1\" class=\"dataframe\">\n",
       "  <thead>\n",
       "    <tr style=\"text-align: right;\">\n",
       "      <th></th>\n",
       "      <th>Prob</th>\n",
       "      <th>True_label</th>\n",
       "      <th>pred_lebel</th>\n",
       "    </tr>\n",
       "  </thead>\n",
       "  <tbody>\n",
       "    <tr>\n",
       "      <th>0</th>\n",
       "      <td>0.33</td>\n",
       "      <td>0.0</td>\n",
       "      <td>0</td>\n",
       "    </tr>\n",
       "    <tr>\n",
       "      <th>1</th>\n",
       "      <td>0.87</td>\n",
       "      <td>1.0</td>\n",
       "      <td>1</td>\n",
       "    </tr>\n",
       "    <tr>\n",
       "      <th>2</th>\n",
       "      <td>0.01</td>\n",
       "      <td>0.0</td>\n",
       "      <td>0</td>\n",
       "    </tr>\n",
       "    <tr>\n",
       "      <th>3</th>\n",
       "      <td>0.12</td>\n",
       "      <td>1.0</td>\n",
       "      <td>0</td>\n",
       "    </tr>\n",
       "    <tr>\n",
       "      <th>4</th>\n",
       "      <td>0.23</td>\n",
       "      <td>0.0</td>\n",
       "      <td>0</td>\n",
       "    </tr>\n",
       "  </tbody>\n",
       "</table>\n",
       "</div>"
      ],
      "text/plain": [
       "   Prob  True_label  pred_lebel\n",
       "0  0.33         0.0           0\n",
       "1  0.87         1.0           1\n",
       "2  0.01         0.0           0\n",
       "3  0.12         1.0           0\n",
       "4  0.23         0.0           0"
      ]
     },
     "execution_count": 4,
     "metadata": {},
     "output_type": "execute_result"
    }
   ],
   "source": [
    "# copy df for this case\n",
    "df_threshold_half = df.copy()\n",
    "#assign predicted labels\n",
    "df_threshold_half['pred_lebel'] = df_threshold_half['Prob'].apply(lambda x: 1 if x>=0.5 else 0)\n",
    "#查看一下前几行的赋值情况\n",
    "df_threshold_half.head()"
   ]
  },
  {
   "cell_type": "code",
   "execution_count": 5,
   "id": "c8b423d7",
   "metadata": {},
   "outputs": [
    {
     "data": {
      "text/plain": [
       "array([[142, 113],\n",
       "       [120, 125]], dtype=int64)"
      ]
     },
     "execution_count": 5,
     "metadata": {},
     "output_type": "execute_result"
    }
   ],
   "source": [
    "# get the confusion matrix\n",
    "cm = confusion_matrix(df_threshold_half.True_label, df_threshold_half.pred_lebel)\n",
    "cm"
   ]
  },
  {
   "cell_type": "code",
   "execution_count": 6,
   "id": "5960774f",
   "metadata": {},
   "outputs": [
    {
     "data": {
      "text/plain": [
       "<sklearn.metrics._plot.confusion_matrix.ConfusionMatrixDisplay at 0x24784720370>"
      ]
     },
     "execution_count": 6,
     "metadata": {},
     "output_type": "execute_result"
    },
    {
     "data": {
      "image/png": "[encoded data removed]",
      "text/plain": [
       "<Figure size 432x288 with 2 Axes>"
      ]
     },
     "metadata": {
      "needs_background": "light"
     },
     "output_type": "display_data"
    }
   ],
   "source": [
    "# display confusion matrix\n",
    "cmd = ConfusionMatrixDisplay(cm, display_labels=['negative','positive'])\n",
    "cmd.plot()"
   ]
  },
  {
   "cell_type": "code",
   "execution_count": 7,
   "id": "e97cab31",
   "metadata": {},
   "outputs": [
    {
     "data": {
      "text/plain": [
       "(142, 113, 120, 125)"
      ]
     },
     "execution_count": 7,
     "metadata": {},
     "output_type": "execute_result"
    }
   ],
   "source": [
    "# get the tn,tp,fn,fp\n",
    "tn, fp, fn, tp = confusion_matrix(df_threshold_half.True_label, df_threshold_half\n",
    "                                  .pred_lebel).ravel()\n",
    "(tn, fp, fn, tp)"
   ]
  },
  {
   "cell_type": "code",
   "execution_count": 8,
   "id": "642d1407",
   "metadata": {
    "code_folding": [],
    "scrolled": true
   },
   "outputs": [
    {
     "name": "stdout",
     "output_type": "stream",
     "text": [
      "Under threshold = 0.5: (FPR, TPR) = (0.44,0.51)\n"
     ]
    }
   ],
   "source": [
    "# ROC essentially is a plot of a number of (fpr, tpr) pairs.\n",
    "# with threshold = 0.5, we have \n",
    "# TPR = TP/(TP+FN) = 125/(125+120) = 0.51\n",
    "# FPR = FP/(TN+FP) = 113/(113+142) = 0.44\n",
    "# now we have a pair of (0.44,0.51)\n",
    "TPR = tp/(tp+fn)\n",
    "FPR = fp/(tn+fp)\n",
    "print(\"Under threshold = 0.5: (FPR, TPR) = ({:.2f},{:.2f})\".format (FPR,TPR))"
   ]
  },
  {
   "cell_type": "markdown",
   "id": "fa09092e",
   "metadata": {},
   "source": [
    "文章开头提过, ROC曲线是通过N组(FPR, TPR)绘制出来的. 那么其他组的(FPR, TPR)要怎么得到呢? \n",
    "\n",
    "答案: 我们可以通过不断改变threshold来得到. 当我们有100组threshold时, 比如 threshold = [0.00,0.01,0.02,...,0.098,0.099,1.00]时, 我们就会得到100组 (FPR, TPR), 然后就可以轻松绘制ROC曲线了\n",
    "\n",
    "我们这里快速的讲threshold设置为0.9给大家展示在阈值为0.9的情况下(既probability ≥ 0.9的case会被赋值预测为1), (FPR, TPR)分别是多少..."
   ]
  },
  {
   "cell_type": "markdown",
   "id": "4a78ea8d",
   "metadata": {},
   "source": [
    "### Change of threshold\n",
    "我们这里快速的讲threshold设置为**0.9**给大家展示在阈值为0.9的情况下(既probability ≥ 0.9的case会被赋值预测为1),（FPR, TPR)的赋值"
   ]
  },
  {
   "cell_type": "code",
   "execution_count": 9,
   "id": "4ece34bb",
   "metadata": {},
   "outputs": [],
   "source": [
    "# when threshold = 0.9, any case with probility greater or equal to 0.9 will be labelled as 1\n",
    "# since we increase the threhsold dramatically, we expect the predicted number of positive cases is much smaller\n",
    "df_threshold_nine = df.copy()\n",
    "df_threshold_nine['pred_lebel'] = df_threshold_half['Prob'].apply(lambda x: 1 if x>=0.9 else 0)"
   ]
  },
  {
   "cell_type": "code",
   "execution_count": 10,
   "id": "867c036f",
   "metadata": {},
   "outputs": [
    {
     "data": {
      "text/html": [
       "<div>\n",
       "<style scoped>\n",
       "    .dataframe tbody tr th:only-of-type {\n",
       "        vertical-align: middle;\n",
       "    }\n",
       "\n",
       "    .dataframe tbody tr th {\n",
       "        vertical-align: top;\n",
       "    }\n",
       "\n",
       "    .dataframe thead th {\n",
       "        text-align: right;\n",
       "    }\n",
       "</style>\n",
       "<table border=\"1\" class=\"dataframe\">\n",
       "  <thead>\n",
       "    <tr style=\"text-align: right;\">\n",
       "      <th></th>\n",
       "      <th>Prob</th>\n",
       "      <th>True_label</th>\n",
       "      <th>pred_lebel</th>\n",
       "    </tr>\n",
       "  </thead>\n",
       "  <tbody>\n",
       "    <tr>\n",
       "      <th>0</th>\n",
       "      <td>0.33</td>\n",
       "      <td>0.0</td>\n",
       "      <td>0</td>\n",
       "    </tr>\n",
       "    <tr>\n",
       "      <th>1</th>\n",
       "      <td>0.87</td>\n",
       "      <td>1.0</td>\n",
       "      <td>0</td>\n",
       "    </tr>\n",
       "    <tr>\n",
       "      <th>2</th>\n",
       "      <td>0.01</td>\n",
       "      <td>0.0</td>\n",
       "      <td>0</td>\n",
       "    </tr>\n",
       "    <tr>\n",
       "      <th>3</th>\n",
       "      <td>0.12</td>\n",
       "      <td>1.0</td>\n",
       "      <td>0</td>\n",
       "    </tr>\n",
       "    <tr>\n",
       "      <th>4</th>\n",
       "      <td>0.23</td>\n",
       "      <td>0.0</td>\n",
       "      <td>0</td>\n",
       "    </tr>\n",
       "  </tbody>\n",
       "</table>\n",
       "</div>"
      ],
      "text/plain": [
       "   Prob  True_label  pred_lebel\n",
       "0  0.33         0.0           0\n",
       "1  0.87         1.0           0\n",
       "2  0.01         0.0           0\n",
       "3  0.12         1.0           0\n",
       "4  0.23         0.0           0"
      ]
     },
     "execution_count": 10,
     "metadata": {},
     "output_type": "execute_result"
    }
   ],
   "source": [
    "df_threshold_nine.head()"
   ]
  },
  {
   "cell_type": "code",
   "execution_count": 11,
   "id": "1ccbf256",
   "metadata": {},
   "outputs": [
    {
     "data": {
      "text/plain": [
       "array([[233,  22],\n",
       "       [218,  27]], dtype=int64)"
      ]
     },
     "execution_count": 11,
     "metadata": {},
     "output_type": "execute_result"
    }
   ],
   "source": [
    "cm = confusion_matrix(df_threshold_nine.True_label, df_threshold_nine.pred_lebel)\n",
    "cm"
   ]
  },
  {
   "cell_type": "code",
   "execution_count": 12,
   "id": "6992ad3e",
   "metadata": {},
   "outputs": [
    {
     "data": {
      "text/plain": [
       "(233, 22, 218, 27)"
      ]
     },
     "execution_count": 12,
     "metadata": {},
     "output_type": "execute_result"
    }
   ],
   "source": [
    "tn, fp, fn, tp = confusion_matrix(df_threshold_nine.True_label, df_threshold_nine\n",
    "                                  .pred_lebel).ravel()\n",
    "(tn, fp, fn, tp)\n"
   ]
  },
  {
   "cell_type": "code",
   "execution_count": 13,
   "id": "74691c64",
   "metadata": {},
   "outputs": [
    {
     "data": {
      "text/plain": [
       "<sklearn.metrics._plot.confusion_matrix.ConfusionMatrixDisplay at 0x24784edb970>"
      ]
     },
     "execution_count": 13,
     "metadata": {},
     "output_type": "execute_result"
    },
    {
     "data": {
      "image/png": "[encoded data removed]",
      "text/plain": [
       "<Figure size 432x288 with 2 Axes>"
      ]
     },
     "metadata": {
      "needs_background": "light"
     },
     "output_type": "display_data"
    }
   ],
   "source": [
    "cmd = ConfusionMatrixDisplay(cm, display_labels=['negative','positive'])\n",
    "cmd.plot()"
   ]
  },
  {
   "cell_type": "code",
   "execution_count": 14,
   "id": "d9a2aca2",
   "metadata": {
    "scrolled": false
   },
   "outputs": [
    {
     "name": "stdout",
     "output_type": "stream",
     "text": [
      "Under threshold = 0.9: (FPR, TPR) = (0.09,0.11)\n"
     ]
    }
   ],
   "source": [
    "TPR = tp/(tp+fn)\n",
    "FPR = fp/(tn+fp)\n",
    "#TPR.round(2)\n",
    "#FPR.round(2)\n",
    "# now we have another pair of (fpr,tpr) = (0.09,0.11)\n",
    "print(\"Under threshold = 0.9: (FPR, TPR) = ({:.2f},{:.2f})\".format (FPR,TPR))"
   ]
  },
  {
   "cell_type": "markdown",
   "id": "5411faa4",
   "metadata": {},
   "source": [
    "可以看到threshold = 0.9的情况下, (FPR, TPR) = (0.09,0.11)"
   ]
  },
  {
   "cell_type": "markdown",
   "id": "a0e2b402",
   "metadata": {},
   "source": [
    "### Performance of the threshold (may delete)\n",
    "We may evaluate the model using different indicators like accuracy, recall, precision, etc"
   ]
  },
  {
   "cell_type": "code",
   "execution_count": 15,
   "id": "bc4d2693",
   "metadata": {},
   "outputs": [],
   "source": [
    "# function of performance\n",
    "def compute_performance(tn, fp, fn, tp):\n",
    "    print(f\"tp: {tp} tn: {tn} fp: {fp} fn: {fn}\")\n",
    "    \n",
    "    # Accuracy\n",
    "    acc = (tp + tn) / (tp + tn + fp + fn)\n",
    "    \n",
    "    # Precision\n",
    "    # \"Of the ones I labeled +, how many are actually +?\"\n",
    "    precision = tp / (tp + fp)\n",
    "    \n",
    "    # Recall\n",
    "    # \"Of all the + in the data, how many do I correctly label?\"\n",
    "    recall = tp / (tp + fn)    \n",
    "    \n",
    "    # Sensitivity\n",
    "    # \"Of all the + in the data, how many do I correctly label?\"\n",
    "    sensitivity = recall\n",
    "    \n",
    "    # Specificity\n",
    "    # \"Of all the - in the data, how many do I correctly label?\"\n",
    "    specificity = tn / (fp + tn)\n",
    "    \n",
    "    print(\"Accuracy:\",round(acc,3),\"Recall:\",round(recall,3),\"Precision:\",round(precision,3),\n",
    "          \"Sensitivity:\",round(sensitivity,3),\"Specificity:\",round(specificity,3))"
   ]
  },
  {
   "cell_type": "code",
   "execution_count": 16,
   "id": "04d3a155",
   "metadata": {},
   "outputs": [
    {
     "name": "stdout",
     "output_type": "stream",
     "text": [
      "tp: 27 tn: 233 fp: 22 fn: 218\n",
      "Accuracy: 0.52 Recall: 0.11 Precision: 0.551 Sensitivity: 0.11 Specificity: 0.914\n"
     ]
    }
   ],
   "source": [
    "# An example usingwhile threshold = 0.9\n",
    "compute_performance(tn, fp, fn, tp)"
   ]
  },
  {
   "cell_type": "markdown",
   "id": "b802f648",
   "metadata": {},
   "source": [
    "## 使用循环构造TPR, FPR组\n",
    "现在大家已经知道了 FPR, TPR的计算方法. 我们可以通过设置不同threshold, 来得到100组 （FPR, TPR). Python中我们可以用循坏来实现"
   ]
  },
  {
   "cell_type": "code",
   "execution_count": 17,
   "id": "6f8a1cc2",
   "metadata": {},
   "outputs": [],
   "source": [
    "#let's define a function to compute all pairs\n",
    "def ROC_pair(threshold):\n",
    "    df_copy = df.copy()\n",
    "    df_copy['pred_lebel'] = df_copy['Prob'].apply(lambda x: 1 if x>=threshold else 0)\n",
    "    tn, fp, fn, tp = confusion_matrix(df_copy.True_label, df_copy.pred_lebel).ravel()\n",
    "    TPR = tp/(tp+fn)\n",
    "    FPR = fp/(tn+fp)\n",
    "    return (TPR.round(2),FPR.round(2))"
   ]
  },
  {
   "cell_type": "code",
   "execution_count": 18,
   "id": "6aa91cf7",
   "metadata": {},
   "outputs": [],
   "source": [
    "range = np.linspace(0,1,100)\n",
    "data = []\n",
    "for i in range:\n",
    "    TPR,FPR = ROC_pair(i)\n",
    "    data.append([i, FPR, TPR])\n",
    "    \n",
    "ROC_df = pd.DataFrame(data, columns=['threshold', 'FPR', 'TPR'])"
   ]
  },
  {
   "cell_type": "code",
   "execution_count": 19,
   "id": "440e580a",
   "metadata": {
    "scrolled": true
   },
   "outputs": [
    {
     "data": {
      "text/html": [
       "<div>\n",
       "<style scoped>\n",
       "    .dataframe tbody tr th:only-of-type {\n",
       "        vertical-align: middle;\n",
       "    }\n",
       "\n",
       "    .dataframe tbody tr th {\n",
       "        vertical-align: top;\n",
       "    }\n",
       "\n",
       "    .dataframe thead th {\n",
       "        text-align: right;\n",
       "    }\n",
       "</style>\n",
       "<table border=\"1\" class=\"dataframe\">\n",
       "  <thead>\n",
       "    <tr style=\"text-align: right;\">\n",
       "      <th></th>\n",
       "      <th>threshold</th>\n",
       "      <th>FPR</th>\n",
       "      <th>TPR</th>\n",
       "    </tr>\n",
       "  </thead>\n",
       "  <tbody>\n",
       "    <tr>\n",
       "      <th>0</th>\n",
       "      <td>0.000000</td>\n",
       "      <td>1.00</td>\n",
       "      <td>1.00</td>\n",
       "    </tr>\n",
       "    <tr>\n",
       "      <th>1</th>\n",
       "      <td>0.010101</td>\n",
       "      <td>0.99</td>\n",
       "      <td>0.99</td>\n",
       "    </tr>\n",
       "    <tr>\n",
       "      <th>2</th>\n",
       "      <td>0.020202</td>\n",
       "      <td>0.98</td>\n",
       "      <td>0.97</td>\n",
       "    </tr>\n",
       "    <tr>\n",
       "      <th>3</th>\n",
       "      <td>0.030303</td>\n",
       "      <td>0.97</td>\n",
       "      <td>0.96</td>\n",
       "    </tr>\n",
       "    <tr>\n",
       "      <th>4</th>\n",
       "      <td>0.040404</td>\n",
       "      <td>0.96</td>\n",
       "      <td>0.95</td>\n",
       "    </tr>\n",
       "    <tr>\n",
       "      <th>...</th>\n",
       "      <td>...</td>\n",
       "      <td>...</td>\n",
       "      <td>...</td>\n",
       "    </tr>\n",
       "    <tr>\n",
       "      <th>95</th>\n",
       "      <td>0.959596</td>\n",
       "      <td>0.04</td>\n",
       "      <td>0.06</td>\n",
       "    </tr>\n",
       "    <tr>\n",
       "      <th>96</th>\n",
       "      <td>0.969697</td>\n",
       "      <td>0.02</td>\n",
       "      <td>0.05</td>\n",
       "    </tr>\n",
       "    <tr>\n",
       "      <th>97</th>\n",
       "      <td>0.979798</td>\n",
       "      <td>0.02</td>\n",
       "      <td>0.04</td>\n",
       "    </tr>\n",
       "    <tr>\n",
       "      <th>98</th>\n",
       "      <td>0.989899</td>\n",
       "      <td>0.01</td>\n",
       "      <td>0.03</td>\n",
       "    </tr>\n",
       "    <tr>\n",
       "      <th>99</th>\n",
       "      <td>1.000000</td>\n",
       "      <td>0.01</td>\n",
       "      <td>0.00</td>\n",
       "    </tr>\n",
       "  </tbody>\n",
       "</table>\n",
       "<p>100 rows × 3 columns</p>\n",
       "</div>"
      ],
      "text/plain": [
       "    threshold   FPR   TPR\n",
       "0    0.000000  1.00  1.00\n",
       "1    0.010101  0.99  0.99\n",
       "2    0.020202  0.98  0.97\n",
       "3    0.030303  0.97  0.96\n",
       "4    0.040404  0.96  0.95\n",
       "..        ...   ...   ...\n",
       "95   0.959596  0.04  0.06\n",
       "96   0.969697  0.02  0.05\n",
       "97   0.979798  0.02  0.04\n",
       "98   0.989899  0.01  0.03\n",
       "99   1.000000  0.01  0.00\n",
       "\n",
       "[100 rows x 3 columns]"
      ]
     },
     "execution_count": 19,
     "metadata": {},
     "output_type": "execute_result"
    }
   ],
   "source": [
    "ROC_df"
   ]
  },
  {
   "cell_type": "markdown",
   "id": "5746db75",
   "metadata": {},
   "source": [
    "## 使用build-in function进行对比"
   ]
  },
  {
   "cell_type": "code",
   "execution_count": 20,
   "id": "531756e8",
   "metadata": {},
   "outputs": [],
   "source": [
    "# 使用build-in function得到TPR,FPR\n",
    "fpr, tpr, thresholds = roc_curve(df.True_label, df.Prob)"
   ]
  },
  {
   "cell_type": "code",
   "execution_count": 21,
   "id": "b3bebded",
   "metadata": {
    "scrolled": true
   },
   "outputs": [
    {
     "data": {
      "image/png": "[encoded data removed]",
      "text/plain": [
       "<Figure size 432x288 with 1 Axes>"
      ]
     },
     "metadata": {
      "needs_background": "light"
     },
     "output_type": "display_data"
    }
   ],
   "source": [
    "plt.figure()\n",
    "plt.title('ROC CURVE')\n",
    "plt.xlabel('False Positive Rate')\n",
    "plt.ylabel('True Positive Rate')\n",
    "plt.xlim([0.0,1.0])\n",
    "plt.ylim([0.0,1.0])\n",
    "# 为了展示两条线是几乎重叠的就没有round, 不然两条线就是一条线\n",
    "# plt.plot(np.round(fpr,2),np.round(tpr,2),color='g')\n",
    "plt.plot(fpr,tpr,color='b') #build-in function下的ROC曲线为蓝色\n",
    "plt.plot(ROC_df.FPR.values,ROC_df.TPR.values, color = 'r') #手动实现的ROC曲线为红色\n",
    "plt.plot([0, 1], [0, 1], color='m', linestyle='--')\n",
    "plt.show()"
   ]
  },
  {
   "cell_type": "markdown",
   "id": "b5d870a0",
   "metadata": {},
   "source": [
    "可以看到手动实现下的ROC曲线和使用build-in function下绘制出的曲线是完全重合的.\n",
    "\n",
    "由于是simulation数据(基于正态分布且没有skew), ROC曲线看起来没有那么好看 (几乎就是0.5), 实际比较准确的模型比这个曲线好看多了 :)"
   ]
  },
  {
   "cell_type": "markdown",
   "id": "8f46a719",
   "metadata": {},
   "source": [
    "## 优缺点"
   ]
  },
  {
   "cell_type": "markdown",
   "id": "ce4a577b",
   "metadata": {},
   "source": [
    "通过ROC空间，我们明白了一条ROC曲线其实代表了无数个分类器。那么我们为什么常常用一条ROC曲线来描述一个分类器呢？仔细观察ROC曲线，发现其都是上升的曲线（斜率大于0），且都通过点（0,0）和点（1,1）。其实，这些点代表着一个分类器在不同阈值下的分类效果，具体的，曲线从左往右可以认为是阈值从0到1的变化过程。当分类器阈值为1，代表不加以识别全部判断为0，此时TP=FP=0，TPR=TP/P=0，FPR=FR/N=0；当分类器阈值为0，代表不加以识别全部判断为1，此时FN=TN=0，P=TP+FN=TP, TPR=TP/P=1，N=FP+TN=FP, FPR=FR/N=1。\n",
    "\n",
    "ROC curve 可以很好的回答什么问题呢——“不论class的基本概率怎么样，我的模型in general能表现得多好？”\n",
    "\n",
    "所以，ROC曲线描述的其实是分类器性能随着分类器阈值的变化而变化的过程。对于ROC曲线，一个重要的特征是它的面积，面积为0.5为随机分类，识别能力为0，面积越接近于1识别能力越强，面积等于1为完全识别。具体的，可以参考了解ROC曲线下面积，我们会在下篇文章里介绍"
   ]
  },
  {
   "cell_type": "code",
   "execution_count": null,
   "id": "288a5cf6",
   "metadata": {},
   "outputs": [],
   "source": []
  }
 ],
 "metadata": {
  "kernelspec": {
   "display_name": "Python 3",
   "language": "python",
   "name": "python3"
  },
  "language_info": {
   "codemirror_mode": {
    "name": "ipython",
    "version": 3
   },
   "file_extension": ".py",
   "mimetype": "text/x-python",
   "name": "python",
   "nbconvert_exporter": "python",
   "pygments_lexer": "ipython3",
   "version": "3.8.8"
  },
  "latex_envs": {
   "LaTeX_envs_menu_present": true,
   "autoclose": false,
   "autocomplete": true,
   "bibliofile": "biblio.bib",
   "cite_by": "apalike",
   "current_citInitial": 1,
   "eqLabelWithNumbers": true,
   "eqNumInitial": 1,
   "hotkeys": {
    "equation": "Ctrl-E",
    "itemize": "Ctrl-I"
   },
   "labels_anchors": false,
   "latex_user_defs": false,
   "report_style_numbering": false,
   "user_envs_cfg": false
  },
  "toc": {
   "base_numbering": 1,
   "nav_menu": {},
   "number_sections": true,
   "sideBar": true,
   "skip_h1_title": false,
   "title_cell": "Table of Contents",
   "title_sidebar": "Contents",
   "toc_cell": false,
   "toc_position": {},
   "toc_section_display": true,
   "toc_window_display": false
  },
  "varInspector": {
   "cols": {
    "lenName": 16,
    "lenType": 16,
    "lenVar": 40
   },
   "kernels_config": {
    "python": {
     "delete_cmd_postfix": "",
     "delete_cmd_prefix": "del ",
     "library": "var_list.py",
     "varRefreshCmd": "print(var_dic_list())"
    },
    "r": {
     "delete_cmd_postfix": ") ",
     "delete_cmd_prefix": "rm(",
     "library": "var_list.r",
     "varRefreshCmd": "cat(var_dic_list()) "
    }
   },
   "types_to_exclude": [
    "module",
    "function",
    "builtin_function_or_method",
    "instance",
    "_Feature"
   ],
   "window_display": false
  }
 },
 "nbformat": 4,
 "nbformat_minor": 5
}

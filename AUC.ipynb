{
 "cells": [
  {
   "cell_type": "markdown",
   "id": "5fab2df8",
   "metadata": {},
   "source": [
    "### AUC的数值基础"
   ]
  },
  {
   "cell_type": "markdown",
   "id": "9d55e04a",
   "metadata": {},
   "source": [
    "在ROC-AUC的应用中,ROC曲线一般也同时会对应一个AUC值,既Area Under Curve (ROC曲线下方的面积大小).\n",
    "\n",
    "**AUC的意义**: AUC是衡量二分类模型优劣的一种评价指标，表示预测的正例排在负例前面的概率。\n",
    "\n",
    "**取值范围**: AUC面积的大小取值在[0,1]之间. \n",
    "\n",
    "**Threshold**: 由于ROC曲线一般都处于y=x这条直线 (在二分类问题中, 我们不够在任何模型, 进行random guess 的概率就是0.5) 的上方,所以AUC的取值范围应该在0.5和1之间.AUC越接近1.0,检测方法真实性越高;等于0.5时,则真实性最低,无应用价值. "
   ]
  },
  {
   "cell_type": "markdown",
   "id": "f2825e24",
   "metadata": {},
   "source": [
    "***需要再这里穿插一张带AUC的ROC图***"
   ]
  },
  {
   "cell_type": "markdown",
   "id": "155cdee0",
   "metadata": {},
   "source": [
    "### AUC的计算\n",
    "**AUC的计算公式**如下:\n",
    "$$\n",
    "AUC\\,\\,=\\,\\,\\frac{\\sum{rank_i*label_i\\,\\,-\\,\\,\\frac{M\\left( 1+M \\right)}{2}}}{M*N}\n",
    "$$\n",
    "where:\n",
    "\n",
    "1). rank is based on its probability among the whole dataset and\n",
    "\n",
    "2). M = the number of positives (1) and N = the number of negatives (0)"
   ]
  },
  {
   "cell_type": "markdown",
   "id": "7108b701",
   "metadata": {},
   "source": [
    "从公式中我们可以看到, 我们需要进行一些如下的操作:\n",
    "- 需要知道数据集中一共有多少个 positive 和 negative cases. (True label). 既算法中的M和N\n",
    "- 需要知道每一个数据点 （probability）在数据集中的rank是多少, 既$rank_i$\n",
    "- 需要知道每一个数据点所对应的true label, 既$label_i$"
   ]
  },
  {
   "cell_type": "markdown",
   "id": "64b820b2",
   "metadata": {},
   "source": [
    "### 一个简单的例子\n",
    "我们构造一个足够简单的数据集, 取名df_simple."
   ]
  },
  {
   "cell_type": "code",
   "execution_count": 1,
   "id": "4ff59f1f",
   "metadata": {},
   "outputs": [],
   "source": [
    "#首先导入基本数据库\n",
    "import numpy as np\n",
    "import pandas as pd\n",
    "from sklearn.metrics import roc_curve,roc_auc_score\n",
    "import matplotlib.pyplot as plt\n",
    "from scipy.stats import rankdata\n",
    "import seaborn as sns"
   ]
  },
  {
   "cell_type": "code",
   "execution_count": 2,
   "id": "8d78c2f2",
   "metadata": {},
   "outputs": [
    {
     "data": {
      "text/html": [
       "<div>\n",
       "<style scoped>\n",
       "    .dataframe tbody tr th:only-of-type {\n",
       "        vertical-align: middle;\n",
       "    }\n",
       "\n",
       "    .dataframe tbody tr th {\n",
       "        vertical-align: top;\n",
       "    }\n",
       "\n",
       "    .dataframe thead th {\n",
       "        text-align: right;\n",
       "    }\n",
       "</style>\n",
       "<table border=\"1\" class=\"dataframe\">\n",
       "  <thead>\n",
       "    <tr style=\"text-align: right;\">\n",
       "      <th></th>\n",
       "      <th>ID</th>\n",
       "      <th>label</th>\n",
       "      <th>prob</th>\n",
       "    </tr>\n",
       "  </thead>\n",
       "  <tbody>\n",
       "    <tr>\n",
       "      <th>0</th>\n",
       "      <td>A</td>\n",
       "      <td>1</td>\n",
       "      <td>0.8</td>\n",
       "    </tr>\n",
       "    <tr>\n",
       "      <th>1</th>\n",
       "      <td>B</td>\n",
       "      <td>1</td>\n",
       "      <td>0.7</td>\n",
       "    </tr>\n",
       "    <tr>\n",
       "      <th>2</th>\n",
       "      <td>C</td>\n",
       "      <td>0</td>\n",
       "      <td>0.5</td>\n",
       "    </tr>\n",
       "    <tr>\n",
       "      <th>3</th>\n",
       "      <td>D</td>\n",
       "      <td>0</td>\n",
       "      <td>0.5</td>\n",
       "    </tr>\n",
       "    <tr>\n",
       "      <th>4</th>\n",
       "      <td>E</td>\n",
       "      <td>1</td>\n",
       "      <td>0.5</td>\n",
       "    </tr>\n",
       "    <tr>\n",
       "      <th>5</th>\n",
       "      <td>F</td>\n",
       "      <td>1</td>\n",
       "      <td>0.5</td>\n",
       "    </tr>\n",
       "    <tr>\n",
       "      <th>6</th>\n",
       "      <td>G</td>\n",
       "      <td>0</td>\n",
       "      <td>0.3</td>\n",
       "    </tr>\n",
       "  </tbody>\n",
       "</table>\n",
       "</div>"
      ],
      "text/plain": [
       "  ID  label  prob\n",
       "0  A      1   0.8\n",
       "1  B      1   0.7\n",
       "2  C      0   0.5\n",
       "3  D      0   0.5\n",
       "4  E      1   0.5\n",
       "5  F      1   0.5\n",
       "6  G      0   0.3"
      ]
     },
     "execution_count": 2,
     "metadata": {},
     "output_type": "execute_result"
    }
   ],
   "source": [
    "d = {'ID' :['A','B','C','D','E','F','G'], 'label' :[1,1,0,0,1,1,0], 'prob' : [0.8,0.7,0.5,0.5,0.5,0.5,0.3]}\n",
    "df_simple = pd.DataFrame(data = d)\n",
    "df_simple"
   ]
  },
  {
   "cell_type": "markdown",
   "id": "b88be5b7",
   "metadata": {},
   "source": [
    "1. 从上图的dataframe中可以看到, 我们一共有 4 个positive cases, 和3个negative cases.<br>\n",
    "所以M =4, N=3\n",
    "2. 接下来我们需要得到每个case根据probability的rank结果"
   ]
  },
  {
   "cell_type": "code",
   "execution_count": 3,
   "id": "244b789e",
   "metadata": {
    "scrolled": true
   },
   "outputs": [
    {
     "data": {
      "text/html": [
       "<div>\n",
       "<style scoped>\n",
       "    .dataframe tbody tr th:only-of-type {\n",
       "        vertical-align: middle;\n",
       "    }\n",
       "\n",
       "    .dataframe tbody tr th {\n",
       "        vertical-align: top;\n",
       "    }\n",
       "\n",
       "    .dataframe thead th {\n",
       "        text-align: right;\n",
       "    }\n",
       "</style>\n",
       "<table border=\"1\" class=\"dataframe\">\n",
       "  <thead>\n",
       "    <tr style=\"text-align: right;\">\n",
       "      <th></th>\n",
       "      <th>ID</th>\n",
       "      <th>label</th>\n",
       "      <th>prob</th>\n",
       "      <th>rank</th>\n",
       "    </tr>\n",
       "  </thead>\n",
       "  <tbody>\n",
       "    <tr>\n",
       "      <th>0</th>\n",
       "      <td>A</td>\n",
       "      <td>1</td>\n",
       "      <td>0.8</td>\n",
       "      <td>7.0</td>\n",
       "    </tr>\n",
       "    <tr>\n",
       "      <th>1</th>\n",
       "      <td>B</td>\n",
       "      <td>1</td>\n",
       "      <td>0.7</td>\n",
       "      <td>6.0</td>\n",
       "    </tr>\n",
       "    <tr>\n",
       "      <th>2</th>\n",
       "      <td>C</td>\n",
       "      <td>0</td>\n",
       "      <td>0.5</td>\n",
       "      <td>3.5</td>\n",
       "    </tr>\n",
       "    <tr>\n",
       "      <th>3</th>\n",
       "      <td>D</td>\n",
       "      <td>0</td>\n",
       "      <td>0.5</td>\n",
       "      <td>3.5</td>\n",
       "    </tr>\n",
       "    <tr>\n",
       "      <th>4</th>\n",
       "      <td>E</td>\n",
       "      <td>1</td>\n",
       "      <td>0.5</td>\n",
       "      <td>3.5</td>\n",
       "    </tr>\n",
       "    <tr>\n",
       "      <th>5</th>\n",
       "      <td>F</td>\n",
       "      <td>1</td>\n",
       "      <td>0.5</td>\n",
       "      <td>3.5</td>\n",
       "    </tr>\n",
       "    <tr>\n",
       "      <th>6</th>\n",
       "      <td>G</td>\n",
       "      <td>0</td>\n",
       "      <td>0.3</td>\n",
       "      <td>1.0</td>\n",
       "    </tr>\n",
       "  </tbody>\n",
       "</table>\n",
       "</div>"
      ],
      "text/plain": [
       "  ID  label  prob  rank\n",
       "0  A      1   0.8   7.0\n",
       "1  B      1   0.7   6.0\n",
       "2  C      0   0.5   3.5\n",
       "3  D      0   0.5   3.5\n",
       "4  E      1   0.5   3.5\n",
       "5  F      1   0.5   3.5\n",
       "6  G      0   0.3   1.0"
      ]
     },
     "execution_count": 3,
     "metadata": {},
     "output_type": "execute_result"
    }
   ],
   "source": [
    "df_simple['rank'] = df_simple.prob.rank(method = 'average')\n",
    "df_simple"
   ]
  },
  {
   "cell_type": "markdown",
   "id": "c4438bc6",
   "metadata": {},
   "source": [
    "3. 在得到rank后, 就可以利用公式进行计算:\n",
    "\n",
    "$\\begin{aligned}\n",
    "AUC & = \\frac{(1*7+1*6+0*3.5+0*3.5+1*3.5+1*3.5++0*1)-\\frac{4*(1+4)}{2}}{4*3} \\\\\n",
    "&= 0.8333\n",
    "\\end{aligned}$\n"
   ]
  },
  {
   "cell_type": "markdown",
   "id": "c78ccb21",
   "metadata": {},
   "source": [
    "4. 通过和build-in function的结果进行对比, 结果一致!"
   ]
  },
  {
   "cell_type": "code",
   "execution_count": 4,
   "id": "2a782015",
   "metadata": {},
   "outputs": [
    {
     "name": "stdout",
     "output_type": "stream",
     "text": [
      " USing build-in function, we have the AUC value be 0.8333\n"
     ]
    }
   ],
   "source": [
    "# 使用build-in function进行对比\n",
    "AUC_test = roc_auc_score(df_simple.label,df_simple.prob)\n",
    "print(' USing build-in function, we have the AUC value be %0.4f' %AUC_test)"
   ]
  },
  {
   "cell_type": "markdown",
   "id": "a66ca0cf",
   "metadata": {},
   "source": [
    "### 模拟数据集(和ROC文一致)\n",
    "和<ROC曲线 (***看一下是不是这个名字***)>文章对应, 我们本篇同样通过手动来实现AUC的代码. 并且为了和ROC文章相呼应, 我们这里采取ROC文章中同样的模拟集, 模拟方法和ROC文章中一样, 并且通过set seed来模拟出同样的数数据集."
   ]
  },
  {
   "cell_type": "code",
   "execution_count": 5,
   "id": "1277fe7d",
   "metadata": {},
   "outputs": [],
   "source": [
    "#使用模拟构造数据集 simulated true labels and probability\n",
    "np.random.seed(3000) #set seed so the results are reproducible\n",
    "# 模拟500个样本\n",
    "#初始化样本标签，假设1为正例，0为负例\n",
    "train_label = np.random.randint(0,2,size=500)\n",
    "\n",
    "#产生500个概率值（置信度），即单个样本值为正例的概率, round为小数\n",
    "train_prob = np.random.rand(500).round(2)"
   ]
  },
  {
   "cell_type": "code",
   "execution_count": 6,
   "id": "6eef1477",
   "metadata": {},
   "outputs": [
    {
     "data": {
      "text/html": [
       "<div>\n",
       "<style scoped>\n",
       "    .dataframe tbody tr th:only-of-type {\n",
       "        vertical-align: middle;\n",
       "    }\n",
       "\n",
       "    .dataframe tbody tr th {\n",
       "        vertical-align: top;\n",
       "    }\n",
       "\n",
       "    .dataframe thead th {\n",
       "        text-align: right;\n",
       "    }\n",
       "</style>\n",
       "<table border=\"1\" class=\"dataframe\">\n",
       "  <thead>\n",
       "    <tr style=\"text-align: right;\">\n",
       "      <th></th>\n",
       "      <th>Prob</th>\n",
       "      <th>True_label</th>\n",
       "    </tr>\n",
       "  </thead>\n",
       "  <tbody>\n",
       "    <tr>\n",
       "      <th>0</th>\n",
       "      <td>0.33</td>\n",
       "      <td>0.0</td>\n",
       "    </tr>\n",
       "    <tr>\n",
       "      <th>1</th>\n",
       "      <td>0.87</td>\n",
       "      <td>1.0</td>\n",
       "    </tr>\n",
       "    <tr>\n",
       "      <th>2</th>\n",
       "      <td>0.01</td>\n",
       "      <td>0.0</td>\n",
       "    </tr>\n",
       "    <tr>\n",
       "      <th>3</th>\n",
       "      <td>0.12</td>\n",
       "      <td>1.0</td>\n",
       "    </tr>\n",
       "    <tr>\n",
       "      <th>4</th>\n",
       "      <td>0.23</td>\n",
       "      <td>0.0</td>\n",
       "    </tr>\n",
       "  </tbody>\n",
       "</table>\n",
       "</div>"
      ],
      "text/plain": [
       "   Prob  True_label\n",
       "0  0.33         0.0\n",
       "1  0.87         1.0\n",
       "2  0.01         0.0\n",
       "3  0.12         1.0\n",
       "4  0.23         0.0"
      ]
     },
     "execution_count": 6,
     "metadata": {},
     "output_type": "execute_result"
    }
   ],
   "source": [
    "# Combine arrays to be data frame to better visilize it\n",
    "df = pd.DataFrame(np.c_[train_prob,train_label],columns=['Prob','True_label'])\n",
    "df.head()"
   ]
  },
  {
   "cell_type": "code",
   "execution_count": 7,
   "id": "58394672",
   "metadata": {},
   "outputs": [
    {
     "data": {
      "image/png": "[encoded data removed]",
      "text/plain": [
       "<Figure size 432x288 with 1 Axes>"
      ]
     },
     "metadata": {
      "needs_background": "light"
     },
     "output_type": "display_data"
    }
   ],
   "source": [
    "fpr, tpr, thresholds = roc_curve(df.True_label, df.Prob)\n",
    "plt.figure()\n",
    "plt.title('ROC CURVE')\n",
    "plt.xlabel('False Positive Rate')\n",
    "plt.ylabel('True Positive Rate')\n",
    "plt.xlim([0.0,1.0])\n",
    "plt.ylim([0.0,1.0])\n",
    "plt.plot(fpr,tpr,color='b') #build-in function下的ROC曲线为蓝色\n",
    "plt.plot([0, 1], [0, 1], color='m', linestyle='--') # y=x curve\n",
    "plt.show()"
   ]
  },
  {
   "cell_type": "markdown",
   "id": "df3f58ff",
   "metadata": {},
   "source": [
    "可以看到ROC文章中的ROC曲线和上图是一样的."
   ]
  },
  {
   "cell_type": "markdown",
   "id": "ac403e4b",
   "metadata": {},
   "source": [
    "### 衍生到general的情景, 手动实现\n",
    "下面我们从简单的例子衍生到generalized情况, 且用code来表达:"
   ]
  },
  {
   "cell_type": "code",
   "execution_count": 8,
   "id": "d2df6b75",
   "metadata": {},
   "outputs": [],
   "source": [
    "def auc_calculate(np_labels,np_prob,n_bins=100):\n",
    "    # number of positive\n",
    "    postive_num = sum(np_labels)\n",
    "    # number of negatives N\n",
    "    negative_num = len(np_labels) - postive_num\n",
    "    #rank probabilities using rankdata function\n",
    "    prob_rank = rankdata(np_prob)\n",
    "    #use dot product to realize the matrix production\n",
    "    auc = (np.dot(np_labels,prob_rank.T) - 0.5*(postive_num*(1+postive_num)))/(postive_num * negative_num)\n",
    "    #return satisfied_pair / total\n",
    "    return auc "
   ]
  },
  {
   "cell_type": "code",
   "execution_count": 9,
   "id": "b12b6d93",
   "metadata": {},
   "outputs": [
    {
     "data": {
      "text/plain": [
       "0.5398559423769508"
      ]
     },
     "execution_count": 9,
     "metadata": {},
     "output_type": "execute_result"
    }
   ],
   "source": [
    "#使用我们手动实现的代码计算AUC\n",
    "auc_manual = auc_calculate(df.True_label.values,df.Prob.values,n_bins=100)\n",
    "auc_manual"
   ]
  },
  {
   "cell_type": "code",
   "execution_count": 10,
   "id": "2c260e51",
   "metadata": {},
   "outputs": [
    {
     "data": {
      "text/plain": [
       "0.5398559423769508"
      ]
     },
     "execution_count": 10,
     "metadata": {},
     "output_type": "execute_result"
    }
   ],
   "source": [
    "#使用sklearn包里的代码直接计算AUC\n",
    "auc_sklearn = roc_auc_score(df.True_label,df.Prob)\n",
    "auc_sklearn"
   ]
  },
  {
   "cell_type": "markdown",
   "id": "7fb6591a",
   "metadata": {},
   "source": [
    "通过比较可以发现, 我们手动实现得到的AUC和sklearn库里build-in function (roc_auc_score)得到的AUC是**完全一致**."
   ]
  },
  {
   "cell_type": "markdown",
   "id": "4154d211",
   "metadata": {},
   "source": [
    "通常来说, 我们会将AUC-ROC画在同一个plot里, 示范如下:"
   ]
  },
  {
   "cell_type": "code",
   "execution_count": 11,
   "id": "14d923b6",
   "metadata": {},
   "outputs": [
    {
     "data": {
      "image/png": "[encoded data removed]",
      "text/plain": [
       "<Figure size 432x288 with 1 Axes>"
      ]
     },
     "metadata": {
      "needs_background": "light"
     },
     "output_type": "display_data"
    }
   ],
   "source": [
    "plt.figure()\n",
    "plt.title('ROC CURVE')\n",
    "plt.xlabel('False Positive Rate')\n",
    "plt.ylabel('True Positive Rate')\n",
    "plt.xlim([0.0,1.0])\n",
    "plt.ylim([0.0,1.0])\n",
    "plt.plot(fpr,tpr,color='b', label = 'Model AUC = %0.2f'% auc_manual) #build-in function下的ROC曲线为蓝色\n",
    "plt.plot([0, 1], [0, 1], color='m', linestyle='--', label = 'Random Guess AUC = 0.5') # y=x curve\n",
    "plt.legend(loc = 'upper left')\n",
    "plt.show()"
   ]
  },
  {
   "cell_type": "markdown",
   "id": "f38836fb",
   "metadata": {},
   "source": [
    "### AUC的判断与比较\n",
    "\n",
    "**从AUC 判断分类器（预测模型）优劣的标准**：\n",
    "- AUC = 1，是完美分类器。\n",
    "- AUC = [0.85, 0.95], 效果很好\n",
    "- AUC = [0.7, 0.85], 效果一般\n",
    "- AUC = [0.5, 0.7],效果较低，但用于预测股票已经很不错了\n",
    "- AUC = 0.5，跟随机猜测一样（例：丢铜板），模型没有预测价值。\n",
    "- AUC < 0.5，比随机猜测还差；但只要总是反预测而行 (既模型预测不是positive, 而是negative)，就优于随机猜测. 比如得到的AUC是0.3, 很有可能是因为模型是在预测negative, 那么实际上如果去预测positive, 我们可能得到 1- 0.3 = 0.7的AUC!\n",
    "\n",
    "**比较不同模型的AUC**: 我们往往使用AUC值作为模型的评价标准是因为很多时候ROC曲线并不能清晰的说明哪个分类器的效果更好，而作为一个数值，对应AUC更大的分类器效果更好。\n",
    "\n",
    "**为什么要比较AUC**: 如果两条ROC曲线没有相交，我们可以根据哪条曲线最靠近左上角哪条曲线代表的学习器性能就最好。但是，实际任务中，情况很复杂，如果两条ROC曲线发生了交叉，则很难一般性地断言谁优谁劣。在很多实际应用中，我们往往希望把学习器性能分出个高低来。在此引入AUC面积。\n",
    "在进行学习器的比较时，若一个学习器的ROC曲线被另一个学习器的曲线完全“包住”，则可断言后者的性能优于前者；若两个学习器的ROC曲线发生交叉，则难以一般性的断言两者孰优孰劣。此时如果一定要进行比较，则比较合理的判断依据是比较ROC曲线下的面积，即AUC.\n",
    "\n",
    "**AUC的局限性**: AUC可以用来评价ROC曲线的上凸程度。从这里也可以看出，AUC *只能* 用于二分类模型的评估。"
   ]
  }
 ],
 "metadata": {
  "kernelspec": {
   "display_name": "Python 3",
   "language": "python",
   "name": "python3"
  },
  "language_info": {
   "codemirror_mode": {
    "name": "ipython",
    "version": 3
   },
   "file_extension": ".py",
   "mimetype": "text/x-python",
   "name": "python",
   "nbconvert_exporter": "python",
   "pygments_lexer": "ipython3",
   "version": "3.8.8"
  },
  "latex_envs": {
   "LaTeX_envs_menu_present": true,
   "autoclose": false,
   "autocomplete": true,
   "bibliofile": "biblio.bib",
   "cite_by": "apalike",
   "current_citInitial": 1,
   "eqLabelWithNumbers": true,
   "eqNumInitial": 1,
   "hotkeys": {
    "equation": "Ctrl-E",
    "itemize": "Ctrl-I"
   },
   "labels_anchors": false,
   "latex_user_defs": false,
   "report_style_numbering": false,
   "user_envs_cfg": false
  },
  "toc": {
   "base_numbering": 1,
   "nav_menu": {},
   "number_sections": true,
   "sideBar": true,
   "skip_h1_title": false,
   "title_cell": "Table of Contents",
   "title_sidebar": "Contents",
   "toc_cell": false,
   "toc_position": {},
   "toc_section_display": true,
   "toc_window_display": false
  },
  "varInspector": {
   "cols": {
    "lenName": 16,
    "lenType": 16,
    "lenVar": 40
   },
   "kernels_config": {
    "python": {
     "delete_cmd_postfix": "",
     "delete_cmd_prefix": "del ",
     "library": "var_list.py",
     "varRefreshCmd": "print(var_dic_list())"
    },
    "r": {
     "delete_cmd_postfix": ") ",
     "delete_cmd_prefix": "rm(",
     "library": "var_list.r",
     "varRefreshCmd": "cat(var_dic_list()) "
    }
   },
   "types_to_exclude": [
    "module",
    "function",
    "builtin_function_or_method",
    "instance",
    "_Feature"
   ],
   "window_display": false
  }
 },
 "nbformat": 4,
 "nbformat_minor": 5
}
